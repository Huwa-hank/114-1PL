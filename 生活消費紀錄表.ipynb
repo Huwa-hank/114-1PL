{
  "nbformat": 4,
  "nbformat_minor": 0,
  "metadata": {
    "colab": {
      "provenance": [],
      "authorship_tag": "ABX9TyNhM0KqK0ie0VHOQhqYIsWF",
      "include_colab_link": true
    },
    "kernelspec": {
      "name": "python3",
      "display_name": "Python 3"
    },
    "language_info": {
      "name": "python"
    }
  },
  "cells": [
    {
      "cell_type": "markdown",
      "metadata": {
        "id": "view-in-github",
        "colab_type": "text"
      },
      "source": [
        "<a href=\"https://colab.research.google.com/github/Huwa-hank/114-1PL/blob/main/%E7%94%9F%E6%B4%BB%E6%B6%88%E8%B2%BB%E7%B4%80%E9%8C%84%E8%A1%A8.ipynb\" target=\"_parent\"><img src=\"https://colab.research.google.com/assets/colab-badge.svg\" alt=\"Open In Colab\"/></a>"
      ]
    },
    {
      "cell_type": "markdown",
      "source": [
        "目標：從 Sheet 讀「消費紀錄」→ 計總額/分類小計/AA 分攤 → 寫回 Sheet Summary 分頁。\n",
        "\n",
        "AI 點子（可選）：請模型總結本週花錢習慣與建議（例如「外食過多」）。\n",
        "\n",
        "Sheet 欄位：date, category, item, amount, payer"
      ],
      "metadata": {
        "id": "fiO3FxdAZD2U"
      }
    },
    {
      "cell_type": "code",
      "source": [
        "!pip install gspread oauth2client gspread_dataframe"
      ],
      "metadata": {
        "colab": {
          "base_uri": "https://localhost:8080/"
        },
        "collapsed": true,
        "id": "gio2h1z_ZHfP",
        "outputId": "a41c4c0a-ad72-460a-cd45-5043ee6c88e8"
      },
      "execution_count": null,
      "outputs": [
        {
          "output_type": "stream",
          "name": "stdout",
          "text": [
            "Requirement already satisfied: gspread in /usr/local/lib/python3.12/dist-packages (6.2.1)\n",
            "Requirement already satisfied: oauth2client in /usr/local/lib/python3.12/dist-packages (4.1.3)\n",
            "Requirement already satisfied: gspread_dataframe in /usr/local/lib/python3.12/dist-packages (4.0.0)\n",
            "Requirement already satisfied: google-auth>=1.12.0 in /usr/local/lib/python3.12/dist-packages (from gspread) (2.38.0)\n",
            "Requirement already satisfied: google-auth-oauthlib>=0.4.1 in /usr/local/lib/python3.12/dist-packages (from gspread) (1.2.2)\n",
            "Requirement already satisfied: httplib2>=0.9.1 in /usr/local/lib/python3.12/dist-packages (from oauth2client) (0.31.0)\n",
            "Requirement already satisfied: pyasn1>=0.1.7 in /usr/local/lib/python3.12/dist-packages (from oauth2client) (0.6.1)\n",
            "Requirement already satisfied: pyasn1-modules>=0.0.5 in /usr/local/lib/python3.12/dist-packages (from oauth2client) (0.4.2)\n",
            "Requirement already satisfied: rsa>=3.1.4 in /usr/local/lib/python3.12/dist-packages (from oauth2client) (4.9.1)\n",
            "Requirement already satisfied: six>=1.6.1 in /usr/local/lib/python3.12/dist-packages (from oauth2client) (1.17.0)\n",
            "Requirement already satisfied: pandas>=0.24.0 in /usr/local/lib/python3.12/dist-packages (from gspread_dataframe) (2.2.2)\n",
            "Requirement already satisfied: cachetools<6.0,>=2.0.0 in /usr/local/lib/python3.12/dist-packages (from google-auth>=1.12.0->gspread) (5.5.2)\n",
            "Requirement already satisfied: requests-oauthlib>=0.7.0 in /usr/local/lib/python3.12/dist-packages (from google-auth-oauthlib>=0.4.1->gspread) (2.0.0)\n",
            "Requirement already satisfied: pyparsing<4,>=3.0.4 in /usr/local/lib/python3.12/dist-packages (from httplib2>=0.9.1->oauth2client) (3.2.4)\n",
            "Requirement already satisfied: numpy>=1.26.0 in /usr/local/lib/python3.12/dist-packages (from pandas>=0.24.0->gspread_dataframe) (2.0.2)\n",
            "Requirement already satisfied: python-dateutil>=2.8.2 in /usr/local/lib/python3.12/dist-packages (from pandas>=0.24.0->gspread_dataframe) (2.9.0.post0)\n",
            "Requirement already satisfied: pytz>=2020.1 in /usr/local/lib/python3.12/dist-packages (from pandas>=0.24.0->gspread_dataframe) (2025.2)\n",
            "Requirement already satisfied: tzdata>=2022.7 in /usr/local/lib/python3.12/dist-packages (from pandas>=0.24.0->gspread_dataframe) (2025.2)\n",
            "Requirement already satisfied: oauthlib>=3.0.0 in /usr/local/lib/python3.12/dist-packages (from requests-oauthlib>=0.7.0->google-auth-oauthlib>=0.4.1->gspread) (3.3.1)\n",
            "Requirement already satisfied: requests>=2.0.0 in /usr/local/lib/python3.12/dist-packages (from requests-oauthlib>=0.7.0->google-auth-oauthlib>=0.4.1->gspread) (2.32.4)\n",
            "Requirement already satisfied: charset_normalizer<4,>=2 in /usr/local/lib/python3.12/dist-packages (from requests>=2.0.0->requests-oauthlib>=0.7.0->google-auth-oauthlib>=0.4.1->gspread) (3.4.3)\n",
            "Requirement already satisfied: idna<4,>=2.5 in /usr/local/lib/python3.12/dist-packages (from requests>=2.0.0->requests-oauthlib>=0.7.0->google-auth-oauthlib>=0.4.1->gspread) (3.10)\n",
            "Requirement already satisfied: urllib3<3,>=1.21.1 in /usr/local/lib/python3.12/dist-packages (from requests>=2.0.0->requests-oauthlib>=0.7.0->google-auth-oauthlib>=0.4.1->gspread) (2.5.0)\n",
            "Requirement already satisfied: certifi>=2017.4.17 in /usr/local/lib/python3.12/dist-packages (from requests>=2.0.0->requests-oauthlib>=0.7.0->google-auth-oauthlib>=0.4.1->gspread) (2025.8.3)\n"
          ]
        }
      ]
    },
    {
      "cell_type": "code",
      "source": [
        "from google.colab import auth\n",
        "auth.authenticate_user()\n",
        "\n",
        "import gspread\n",
        "from google.auth.transport.requests import Request\n",
        "from google.auth import default\n",
        "\n",
        "creds, _ = default()\n",
        "gc = gspread.authorize(creds)\n",
        "\n",
        "# 開啟 Google Sheet 括弧內的是 Google Sheet的名稱\n",
        "sheet = gc.open(\"日常財務紀錄表\").sheet1\n"
      ],
      "metadata": {
        "id": "6_X0OW44yt4z"
      },
      "execution_count": 3,
      "outputs": []
    },
    {
      "cell_type": "code",
      "source": [
        "import gspread\n",
        "from google.auth import default\n",
        "import pandas as pd\n",
        "from gspread_dataframe import set_with_dataframe, get_as_dataframe\n",
        "from google.colab import auth\n",
        "auth.authenticate_user()\n",
        "\n",
        "from google.auth.transport.requests import Request\n",
        "from google.auth import default\n",
        "\n",
        "import datetime\n",
        "\n",
        "# 🔑 如果用 Colab OAuth\n",
        "creds, _ = default()\n",
        "gc = gspread.authorize(creds)\n",
        "\n",
        "# 開啟 Google Sheet（請改成你的表單名稱）\n",
        "sheet = gc.open(\"日常財務紀錄表\").sheet1\n",
        "\n",
        "# 初始化欄位\n",
        "columns = [\"日期\", \"項目\", \"分類\", \"金額\"]\n",
        "\n",
        "def 輸入日期():\n",
        "    while True:\n",
        "        try:\n",
        "            年 = int(input(\"請輸入年份 (例如 2025): \"))\n",
        "            月 = int(input(\"請輸入月份 (1-12): \"))\n",
        "            日 = int(input(\"請輸入日期 (1-31): \"))\n",
        "\n",
        "            # 嘗試建立日期物件，檢查是否有效\n",
        "            日期物件 = datetime.date(年, 月, 日)\n",
        "            return 日期物件.strftime(\"%Y-%m-%d\")\n",
        "\n",
        "        except ValueError:\n",
        "            print(\"⚠️ 日期輸入錯誤，請重新輸入！\")\n",
        "\n",
        "def 輸入月份():\n",
        "    while True:\n",
        "        try:\n",
        "            年 = int(input(\"請輸入年份 (例如 2025): \"))\n",
        "            月 = int(input(\"請輸入月份 (1-12): \"))\n",
        "\n",
        "            if 1 <= 月 <= 12:\n",
        "                日期物件 = f\"{年}-{月:02d}\"  # 格式化成 YYYY-MM\n",
        "                return 日期物件\n",
        "            else:\n",
        "                print(\"月份錯誤\")\n",
        "\n",
        "        except ValueError:\n",
        "            print(\"⚠️ 日期輸入錯誤，請重新輸入！\")\n",
        "\n",
        "def 讀取紀錄():\n",
        "    \"\"\"從 Google Sheet 載入紀錄\"\"\"\n",
        "    df = get_as_dataframe(sheet, evaluate_formulas=True, header=0)\n",
        "    df = df.dropna(how=\"all\")  # 移除空列\n",
        "    if df.empty:\n",
        "        df = pd.DataFrame(columns=columns)\n",
        "    return df\n",
        "\n",
        "def 寫入紀錄(df):\n",
        "    \"\"\"把 DataFrame 寫回 Google Sheet\"\"\"\n",
        "    sheet.clear()\n",
        "    set_with_dataframe(sheet, df)\n",
        "\n",
        "def 新增紀錄():\n",
        "    df = 讀取紀錄()\n",
        "    日期 = 輸入日期()\n",
        "    項目 = input(\"輸入項目: \")\n",
        "    分類 = input(\"輸入分類: \")\n",
        "    金額 = float(input(\"輸入金額: \"))\n",
        "    new_row = pd.DataFrame([[日期, 項目, 分類, 金額]], columns=columns)\n",
        "    df = pd.concat([df, new_row], ignore_index=True)\n",
        "    寫入紀錄(df)\n",
        "    print(\"✅ 已新增紀錄！\")\n",
        "\n",
        "def 查看紀錄():\n",
        "    df = 讀取紀錄()\n",
        "    if df.empty:\n",
        "        print(\"⚠️ 目前沒有紀錄\")\n",
        "    else:\n",
        "        print(df)\n",
        "\n",
        "def 月總額():\n",
        "    df = 讀取紀錄()\n",
        "    月份 = 輸入月份()\n",
        "    month_data = df[df[\"日期\"].str.startswith(月份)]\n",
        "    total = month_data[\"金額\"].sum()\n",
        "    print(f\"💰 {月份} 總額: {total}\")\n",
        "\n",
        "def 分類小計():\n",
        "    df = 讀取紀錄()\n",
        "    月份 = 輸入月份()\n",
        "    month_data = df[df[\"日期\"].str.startswith(月份)]\n",
        "    if month_data.empty:\n",
        "        print(\"⚠️ 該月份沒有紀錄\")\n",
        "    else:\n",
        "        print(\"📊 分類小計：\")\n",
        "        print(month_data.groupby(\"分類\")[\"金額\"].sum())\n",
        "\n",
        "# 🔹 主選單\n",
        "def 主程式():\n",
        "    while True:\n",
        "        print(\"\\n=== 消費紀錄系統 ===\")\n",
        "        print(\"1. 新增紀錄\")\n",
        "        print(\"2. 查看紀錄\")\n",
        "        print(\"3. 計算月總額\")\n",
        "        print(\"4. 計算分類小計\")\n",
        "        print(\"0. 離開\")\n",
        "\n",
        "        choice = input(\"請輸入選項: \")\n",
        "\n",
        "        if choice == \"1\":\n",
        "            新增紀錄()\n",
        "        elif choice == \"2\":\n",
        "            查看紀錄()\n",
        "        elif choice == \"3\":\n",
        "            月總額()\n",
        "        elif choice == \"4\":\n",
        "            分類小計()\n",
        "        elif choice == \"0\":\n",
        "            print(\"👋 程式結束\")\n",
        "            break\n",
        "        else:\n",
        "            print(\"⚠️ 無效選項，請重新輸入\")\n",
        "\n",
        "# 🚀 執行\n",
        "主程式()\n"
      ],
      "metadata": {
        "colab": {
          "base_uri": "https://localhost:8080/"
        },
        "id": "OmHlGAZY0NUh",
        "outputId": "10f26227-0793-4f2b-a74a-7b860c9078ad"
      },
      "execution_count": 10,
      "outputs": [
        {
          "output_type": "stream",
          "name": "stdout",
          "text": [
            "\n",
            "=== 消費紀錄系統 ===\n",
            "1. 新增紀錄\n",
            "2. 查看紀錄\n",
            "3. 計算月總額\n",
            "4. 計算分類小計\n",
            "0. 離開\n",
            "請輸入選項: 4\n",
            "請輸入年份 (例如 2025): 2025\n",
            "請輸入月份 (1-12): 9\n",
            "📊 分類小計：\n",
            "分類\n",
            "食品    203.0\n",
            "Name: 金額, dtype: float64\n",
            "\n",
            "=== 消費紀錄系統 ===\n",
            "1. 新增紀錄\n",
            "2. 查看紀錄\n",
            "3. 計算月總額\n",
            "4. 計算分類小計\n",
            "0. 離開\n",
            "請輸入選項: 0\n",
            "👋 程式結束\n"
          ]
        }
      ]
    },
    {
      "cell_type": "code",
      "source": [
        "df"
      ],
      "metadata": {
        "colab": {
          "base_uri": "https://localhost:8080/",
          "height": 141
        },
        "id": "m67HETG6iT2U",
        "outputId": "37d3ec2f-1cf3-454d-fe12-57dfb9fc50cd"
      },
      "execution_count": 4,
      "outputs": [
        {
          "output_type": "error",
          "ename": "NameError",
          "evalue": "name 'df' is not defined",
          "traceback": [
            "\u001b[0;31m---------------------------------------------------------------------------\u001b[0m",
            "\u001b[0;31mNameError\u001b[0m                                 Traceback (most recent call last)",
            "\u001b[0;32m/tmp/ipython-input-1396537375.py\u001b[0m in \u001b[0;36m<cell line: 0>\u001b[0;34m()\u001b[0m\n\u001b[0;32m----> 1\u001b[0;31m \u001b[0mdf\u001b[0m\u001b[0;34m\u001b[0m\u001b[0;34m\u001b[0m\u001b[0m\n\u001b[0m",
            "\u001b[0;31mNameError\u001b[0m: name 'df' is not defined"
          ]
        }
      ]
    }
  ]
}