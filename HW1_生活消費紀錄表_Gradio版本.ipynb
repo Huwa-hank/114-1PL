{
  "nbformat": 4,
  "nbformat_minor": 0,
  "metadata": {
    "colab": {
      "provenance": [],
      "authorship_tag": "ABX9TyOnTdkwcGnNgB1dZMNvAgPy",
      "include_colab_link": true
    },
    "kernelspec": {
      "name": "python3",
      "display_name": "Python 3"
    },
    "language_info": {
      "name": "python"
    }
  },
  "cells": [
    {
      "cell_type": "markdown",
      "metadata": {
        "id": "view-in-github",
        "colab_type": "text"
      },
      "source": [
        "<a href=\"https://colab.research.google.com/github/Huwa-hank/114-1PL/blob/main/HW1_%E7%94%9F%E6%B4%BB%E6%B6%88%E8%B2%BB%E7%B4%80%E9%8C%84%E8%A1%A8_Gradio%E7%89%88%E6%9C%AC.ipynb\" target=\"_parent\"><img src=\"https://colab.research.google.com/assets/colab-badge.svg\" alt=\"Open In Colab\"/></a>"
      ]
    },
    {
      "cell_type": "markdown",
      "source": [
        "目標：從 Sheet 讀「消費紀錄」→ 計總額/分類小計/AA 分攤 → 寫回 Sheet Summary 分頁。\n",
        "\n",
        "AI 點子（可選）：請模型總結本週花錢習慣與建議（例如「外食過多」）。\n",
        "\n",
        "Sheet 欄位：date, category, item, amount, payer"
      ],
      "metadata": {
        "id": "fiO3FxdAZD2U"
      }
    },
    {
      "cell_type": "code",
      "source": [
        "!pip install gspread oauth2client gspread_dataframe"
      ],
      "metadata": {
        "id": "gio2h1z_ZHfP",
        "colab": {
          "base_uri": "https://localhost:8080/"
        },
        "collapsed": true,
        "outputId": "aa516858-f58d-4e70-d4d1-7b450fb605ec"
      },
      "execution_count": 1,
      "outputs": [
        {
          "output_type": "stream",
          "name": "stdout",
          "text": [
            "Requirement already satisfied: gspread in /usr/local/lib/python3.12/dist-packages (6.2.1)\n",
            "Requirement already satisfied: oauth2client in /usr/local/lib/python3.12/dist-packages (4.1.3)\n",
            "Requirement already satisfied: gspread_dataframe in /usr/local/lib/python3.12/dist-packages (4.0.0)\n",
            "Requirement already satisfied: google-auth>=1.12.0 in /usr/local/lib/python3.12/dist-packages (from gspread) (2.38.0)\n",
            "Requirement already satisfied: google-auth-oauthlib>=0.4.1 in /usr/local/lib/python3.12/dist-packages (from gspread) (1.2.2)\n",
            "Requirement already satisfied: httplib2>=0.9.1 in /usr/local/lib/python3.12/dist-packages (from oauth2client) (0.31.0)\n",
            "Requirement already satisfied: pyasn1>=0.1.7 in /usr/local/lib/python3.12/dist-packages (from oauth2client) (0.6.1)\n",
            "Requirement already satisfied: pyasn1-modules>=0.0.5 in /usr/local/lib/python3.12/dist-packages (from oauth2client) (0.4.2)\n",
            "Requirement already satisfied: rsa>=3.1.4 in /usr/local/lib/python3.12/dist-packages (from oauth2client) (4.9.1)\n",
            "Requirement already satisfied: six>=1.6.1 in /usr/local/lib/python3.12/dist-packages (from oauth2client) (1.17.0)\n",
            "Requirement already satisfied: pandas>=0.24.0 in /usr/local/lib/python3.12/dist-packages (from gspread_dataframe) (2.2.2)\n",
            "Requirement already satisfied: cachetools<6.0,>=2.0.0 in /usr/local/lib/python3.12/dist-packages (from google-auth>=1.12.0->gspread) (5.5.2)\n",
            "Requirement already satisfied: requests-oauthlib>=0.7.0 in /usr/local/lib/python3.12/dist-packages (from google-auth-oauthlib>=0.4.1->gspread) (2.0.0)\n",
            "Requirement already satisfied: pyparsing<4,>=3.0.4 in /usr/local/lib/python3.12/dist-packages (from httplib2>=0.9.1->oauth2client) (3.2.4)\n",
            "Requirement already satisfied: numpy>=1.26.0 in /usr/local/lib/python3.12/dist-packages (from pandas>=0.24.0->gspread_dataframe) (2.0.2)\n",
            "Requirement already satisfied: python-dateutil>=2.8.2 in /usr/local/lib/python3.12/dist-packages (from pandas>=0.24.0->gspread_dataframe) (2.9.0.post0)\n",
            "Requirement already satisfied: pytz>=2020.1 in /usr/local/lib/python3.12/dist-packages (from pandas>=0.24.0->gspread_dataframe) (2025.2)\n",
            "Requirement already satisfied: tzdata>=2022.7 in /usr/local/lib/python3.12/dist-packages (from pandas>=0.24.0->gspread_dataframe) (2025.2)\n",
            "Requirement already satisfied: oauthlib>=3.0.0 in /usr/local/lib/python3.12/dist-packages (from requests-oauthlib>=0.7.0->google-auth-oauthlib>=0.4.1->gspread) (3.3.1)\n",
            "Requirement already satisfied: requests>=2.0.0 in /usr/local/lib/python3.12/dist-packages (from requests-oauthlib>=0.7.0->google-auth-oauthlib>=0.4.1->gspread) (2.32.4)\n",
            "Requirement already satisfied: charset_normalizer<4,>=2 in /usr/local/lib/python3.12/dist-packages (from requests>=2.0.0->requests-oauthlib>=0.7.0->google-auth-oauthlib>=0.4.1->gspread) (3.4.3)\n",
            "Requirement already satisfied: idna<4,>=2.5 in /usr/local/lib/python3.12/dist-packages (from requests>=2.0.0->requests-oauthlib>=0.7.0->google-auth-oauthlib>=0.4.1->gspread) (3.10)\n",
            "Requirement already satisfied: urllib3<3,>=1.21.1 in /usr/local/lib/python3.12/dist-packages (from requests>=2.0.0->requests-oauthlib>=0.7.0->google-auth-oauthlib>=0.4.1->gspread) (2.5.0)\n",
            "Requirement already satisfied: certifi>=2017.4.17 in /usr/local/lib/python3.12/dist-packages (from requests>=2.0.0->requests-oauthlib>=0.7.0->google-auth-oauthlib>=0.4.1->gspread) (2025.8.3)\n"
          ]
        }
      ]
    },
    {
      "cell_type": "markdown",
      "source": [
        "Week2 原代碼"
      ],
      "metadata": {
        "id": "oEtdmoI1QPWH"
      }
    },
    {
      "cell_type": "code",
      "source": [
        "import gspread\n",
        "from google.auth import default\n",
        "import pandas as pd\n",
        "from gspread_dataframe import set_with_dataframe, get_as_dataframe\n",
        "from google.colab import auth\n",
        "auth.authenticate_user()\n",
        "\n",
        "from google.auth.transport.requests import Request\n",
        "from google.auth import default\n",
        "\n",
        "import datetime\n",
        "\n",
        "# 🔑 如果用 Colab OAuth\n",
        "creds, _ = default()\n",
        "gc = gspread.authorize(creds)\n",
        "\n",
        "# 開啟 Google Sheet（請改成你的表單名稱）\n",
        "sheet = gc.open(\"日常財務紀錄表\").sheet1\n",
        "\n",
        "# 初始化欄位\n",
        "columns = [\"日期\", \"項目\", \"分類\", \"金額\"]\n",
        "\n",
        "def date_enter():\n",
        "    while True:\n",
        "        try:\n",
        "            Y = int(input(\"請輸入年份 (例如 2025): \"))\n",
        "            M = int(input(\"請輸入月份 (1-12): \"))\n",
        "            D = int(input(\"請輸入日期 (1-31): \"))\n",
        "\n",
        "            # 嘗試建立日期物件，檢查是否有效\n",
        "            date_ob = datetime.date(Y, M, D)\n",
        "            return date_ob.strftime(\"%Y-%m-%d\")\n",
        "\n",
        "        except ValueError:\n",
        "            print(\"⚠️ 日期輸入錯誤，請重新輸入！\")\n",
        "\n",
        "def month_enter():\n",
        "    while True:\n",
        "        try:\n",
        "            Y = int(input(\"請輸入年份 (例如 2025): \"))\n",
        "            M = int(input(\"請輸入月份 (1-12): \"))\n",
        "\n",
        "            if 1 <= M <= 12:\n",
        "                date_ob = f\"{Y}-{M:02d}\"  # 格式化成 YYYY-MM\n",
        "                return date_ob\n",
        "            else:\n",
        "                print(\"月份錯誤\")\n",
        "\n",
        "        except ValueError:\n",
        "            print(\"⚠️ 日期輸入錯誤，請重新輸入！\")\n",
        "\n",
        "def read_rec():\n",
        "    \"\"\"從 Google Sheet 載入紀錄\"\"\"\n",
        "    df = get_as_dataframe(sheet, evaluate_formulas=True, header=0)\n",
        "    df = df.dropna(how=\"all\")  # 移除空列\n",
        "    if df.empty:\n",
        "        df = pd.DataFrame(columns=columns)\n",
        "    return df\n",
        "\n",
        "def write_rec(df):\n",
        "    \"\"\"把 DataFrame 寫回 Google Sheet\"\"\"\n",
        "    sheet.clear()\n",
        "    set_with_dataframe(sheet, df)\n",
        "\n",
        "def add_rec():\n",
        "    df = read_rec()\n",
        "    date = date_enter()\n",
        "    cate = input(\"輸入項目: \")\n",
        "    sort = input(\"輸入分類: \")\n",
        "    mounth = float(input(\"輸入金額: \"))\n",
        "    new_row = pd.DataFrame([[date, cate, sort, mounth]], columns=columns)\n",
        "    df = pd.concat([df, new_row], ignore_index=True)\n",
        "    write_rec(df)\n",
        "    print(\"✅ 已新增紀錄！\")\n",
        "\n",
        "def check_rec():\n",
        "    df = read_rec()\n",
        "    if df.empty:\n",
        "        print(\"⚠️ 目前沒有紀錄\")\n",
        "    else:\n",
        "        print(df)\n",
        "\n",
        "def month_totle():\n",
        "    df = read_rec()\n",
        "    month = month_enter()\n",
        "    month_data = df[df[\"日期\"].str.startswith(month)]\n",
        "    total = month_data[\"金額\"].sum()\n",
        "    print(f\"💰 {month} 總額: {total}\")\n",
        "\n",
        "def sort_totle():\n",
        "    df = read_rec()\n",
        "    month = month_enter()\n",
        "    month_data = df[df[\"日期\"].str.startswith(month)]\n",
        "    if month_data.empty:\n",
        "        print(\"⚠️ 該月份沒有紀錄\")\n",
        "    else:\n",
        "        print(\"📊 分類小計：\")\n",
        "        print(month_data.groupby(\"分類\")[\"金額\"].sum())\n",
        "\n",
        "# 🔹 主選單\n",
        "def demo():\n",
        "    while True:\n",
        "        print(\"\\n=== 消費紀錄系統 ===\")\n",
        "        print(\"1. 新增紀錄\")\n",
        "        print(\"2. 查看紀錄\")\n",
        "        print(\"3. 計算月總額\")\n",
        "        print(\"4. 計算分類小計\")\n",
        "        print(\"0. 離開\")\n",
        "\n",
        "        choice = input(\"請輸入選項: \")\n",
        "\n",
        "        if choice == \"1\":\n",
        "            add_rec()\n",
        "        elif choice == \"2\":\n",
        "            check_rec()\n",
        "        elif choice == \"3\":\n",
        "            month_totle()\n",
        "        elif choice == \"4\":\n",
        "            sort_totle()\n",
        "        elif choice == \"0\":\n",
        "            print(\"👋 程式結束\")\n",
        "            break\n",
        "        else:\n",
        "            print(\"⚠️ 無效選項，請重新輸入\")\n",
        "\n",
        "# 🚀 執行\n",
        "demo()\n"
      ],
      "metadata": {
        "id": "OmHlGAZY0NUh",
        "colab": {
          "base_uri": "https://localhost:8080/"
        },
        "outputId": "148c3302-849c-42a0-ad6c-09a3f03e19dd"
      },
      "execution_count": 3,
      "outputs": [
        {
          "output_type": "stream",
          "name": "stdout",
          "text": [
            "\n",
            "=== 消費紀錄系統 ===\n",
            "1. 新增紀錄\n",
            "2. 查看紀錄\n",
            "3. 計算月總額\n",
            "4. 計算分類小計\n",
            "0. 離開\n",
            "請輸入選項: 0\n",
            "👋 程式結束\n"
          ]
        }
      ]
    },
    {
      "cell_type": "markdown",
      "source": [
        "Chatgpt生成的Gardio示範\n"
      ],
      "metadata": {
        "id": "ylzSjEe3QuqI"
      }
    },
    {
      "cell_type": "code",
      "source": [
        "import gradio as gr\n",
        "import pandas as pd\n",
        "import os\n",
        "\n",
        "FILE_NAME = \"records.csv\"\n",
        "\n",
        "if not os.path.exists(FILE_NAME):\n",
        "    df = pd.DataFrame(columns=[\"日期\", \"品項\", \"金額\", \"分類\"])\n",
        "    df.to_csv(FILE_NAME, index=False)\n",
        "\n",
        "def add_record(日期, 品項, 金額, 分類):\n",
        "    df = pd.read_csv(FILE_NAME)\n",
        "\n",
        "    new_record = {\"日期\": 日期, \"品項\": 品項, \"金額\": 金額, \"分類\": 分類}\n",
        "    df = pd.concat([df, pd.DataFrame([new_record])], ignore_index=True)\n",
        "\n",
        "    df.to_csv(FILE_NAME, index=False)\n",
        "\n",
        "    # 回傳 (最新 5 筆紀錄, 清空日期, 清空品項, 清空金額, 清空分類)\n",
        "    return df.tail(5), \"\", \"\", None, None\n",
        "\n",
        "with gr.Blocks() as demo:\n",
        "    gr.Markdown(\"## 📝 消費紀錄表 - 新增紀錄\")\n",
        "\n",
        "    日期 = gr.Textbox(label=\"日期 (YYYY-MM-DD)\")\n",
        "    品項 = gr.Textbox(label=\"品項\")\n",
        "    金額 = gr.Number(label=\"金額\")\n",
        "    分類 = gr.Dropdown([\"餐飲\", \"交通\", \"娛樂\", \"購物\", \"其他\"], label=\"分類\")\n",
        "\n",
        "    submit_btn = gr.Button(\"新增紀錄\")\n",
        "    output = gr.Dataframe(headers=[\"日期\", \"品項\", \"金額\", \"分類\"], interactive=False)\n",
        "\n",
        "    submit_btn.click(\n",
        "        add_record,\n",
        "        inputs=[日期, 品項, 金額, 分類],\n",
        "        outputs=[output, 日期, 品項, 金額, 分類]\n",
        "    )\n",
        "\n",
        "demo.launch()\n"
      ],
      "metadata": {
        "colab": {
          "base_uri": "https://localhost:8080/",
          "height": 645
        },
        "id": "_6jMxLV_U9wC",
        "outputId": "856266ef-b770-477b-e4a1-057aa17190c4"
      },
      "execution_count": 4,
      "outputs": [
        {
          "output_type": "stream",
          "name": "stdout",
          "text": [
            "It looks like you are running Gradio on a hosted Jupyter notebook, which requires `share=True`. Automatically setting `share=True` (you can turn this off by setting `share=False` in `launch()` explicitly).\n",
            "\n",
            "Colab notebook detected. To show errors in colab notebook, set debug=True in launch()\n",
            "* Running on public URL: https://b169240e513703a6b4.gradio.live\n",
            "\n",
            "This share link expires in 1 week. For free permanent hosting and GPU upgrades, run `gradio deploy` from the terminal in the working directory to deploy to Hugging Face Spaces (https://huggingface.co/spaces)\n"
          ]
        },
        {
          "output_type": "display_data",
          "data": {
            "text/plain": [
              "<IPython.core.display.HTML object>"
            ],
            "text/html": [
              "<div><iframe src=\"https://b169240e513703a6b4.gradio.live\" width=\"100%\" height=\"500\" allow=\"autoplay; camera; microphone; clipboard-read; clipboard-write;\" frameborder=\"0\" allowfullscreen></iframe></div>"
            ]
          },
          "metadata": {}
        },
        {
          "output_type": "execute_result",
          "data": {
            "text/plain": []
          },
          "metadata": {},
          "execution_count": 4
        }
      ]
    },
    {
      "cell_type": "markdown",
      "source": [
        "和Chatgpt調整並整合後的程式碼"
      ],
      "metadata": {
        "id": "s2cf-_APRkd-"
      }
    },
    {
      "cell_type": "code",
      "source": [
        "import gradio as gr\n",
        "import gspread\n",
        "import pandas as pd\n",
        "import datetime\n",
        "\n",
        "from google.auth import default\n",
        "from gspread_dataframe import set_with_dataframe, get_as_dataframe\n",
        "from google.colab import auth\n",
        "\n",
        "# Colab OAuth 登入（你之前用過）\n",
        "auth.authenticate_user()\n",
        "creds, _ = default()\n",
        "gc = gspread.authorize(creds)\n",
        "\n",
        "# 開啟 Google Sheet（請確認名稱正確）\n",
        "sheet = gc.open(\"日常財務紀錄表\").sheet1\n",
        "\n",
        "# 欄位定義（跟試算表欄位一致）\n",
        "COLUMNS = [\"日期\", \"品項\", \"分類\", \"金額\"]\n",
        "\n",
        "# 讀取 Google Sheet -> DataFrame\n",
        "def read_rec():\n",
        "    df = get_as_dataframe(sheet, evaluate_formulas=True, header=0)\n",
        "    df = df.dropna(how=\"all\")\n",
        "    if df.empty:\n",
        "        df = pd.DataFrame(columns=COLUMNS)\n",
        "    # 若試算表的欄位名稱有小差異，可嘗試調整或確保一致\n",
        "    return df.reset_index(drop=True)\n",
        "\n",
        "# 寫回 Google Sheet\n",
        "def write_rec(df):\n",
        "    sheet.clear()\n",
        "    set_with_dataframe(sheet, df)\n",
        "\n",
        "# 小工具：驗證 YYYY-MM-DD\n",
        "def is_valid_date(s):\n",
        "    try:\n",
        "        datetime.date.fromisoformat(s)\n",
        "        return True\n",
        "    except Exception:\n",
        "        return False\n",
        "\n",
        "# 新增紀錄（給 Gradio 用）\n",
        "def add_rec(date, item, category, amount):\n",
        "    # 驗證日期\n",
        "    if not date or not is_valid_date(date):\n",
        "        df_current = read_rec()\n",
        "        return \"⚠️ 日期格式錯誤（請輸入 YYYY-MM-DD）\", df_current.tail(10), date, item, amount, category\n",
        "\n",
        "    # 驗證金額\n",
        "    try:\n",
        "        amount_val = float(amount)\n",
        "    except Exception:\n",
        "        df_current = read_rec()\n",
        "        return \"⚠️ 金額格式錯誤（請輸入數字）\", df_current.tail(10), date, item, amount, category\n",
        "\n",
        "    # 讀資料、加入新列、寫回\n",
        "    df = read_rec()\n",
        "    new_row = pd.DataFrame([[date, item, category, amount_val]], columns=COLUMNS)\n",
        "    df = pd.concat([df, new_row], ignore_index=True)\n",
        "    write_rec(df)\n",
        "\n",
        "    # 回傳：訊息、最新紀錄（顯示最後 10 筆）、並清空輸入框\n",
        "    return \"✅ 已新增紀錄！\", df.tail(10), \"\", \"\", None, None\n",
        "\n",
        "# 建 Gradio UI\n",
        "with gr.Blocks() as demo:\n",
        "    gr.Markdown(\"## 📝 消費紀錄表 - 新增紀錄\")\n",
        "\n",
        "    # 訊息顯示（用來回傳成功或錯誤訊息）\n",
        "    msg = gr.Textbox(label=\"系統訊息\", interactive=False)\n",
        "\n",
        "    date = gr.Textbox(label=\"日期 (YYYY-MM-DD)\")\n",
        "    item = gr.Textbox(label=\"品項\")\n",
        "    amount = gr.Number(label=\"金額\")\n",
        "    category = gr.Dropdown([\"餐飲\", \"交通\", \"娛樂\", \"購物\", \"其他\"], label=\"分類\")\n",
        "\n",
        "    submit_btn = gr.Button(\"新增紀錄\")\n",
        "    output = gr.Dataframe(headers=COLUMNS, interactive=False)\n",
        "\n",
        "    # 注意 outputs 的順序要和 add_rec 回傳值順序一樣\n",
        "    submit_btn.click(\n",
        "        add_rec,\n",
        "        inputs=[date, item, category, amount],\n",
        "        outputs=[msg, output, date, item, amount, category]\n",
        "    )\n",
        "\n",
        "demo.launch(share=True)\n"
      ],
      "metadata": {
        "colab": {
          "base_uri": "https://localhost:8080/",
          "height": 610
        },
        "id": "UGHdqoDwLmYf",
        "outputId": "2831b1d8-5d02-4376-e1f4-ed6e43f6e79c"
      },
      "execution_count": 10,
      "outputs": [
        {
          "output_type": "stream",
          "name": "stdout",
          "text": [
            "Colab notebook detected. To show errors in colab notebook, set debug=True in launch()\n",
            "* Running on public URL: https://63b11b690c02f628fd.gradio.live\n",
            "\n",
            "This share link expires in 1 week. For free permanent hosting and GPU upgrades, run `gradio deploy` from the terminal in the working directory to deploy to Hugging Face Spaces (https://huggingface.co/spaces)\n"
          ]
        },
        {
          "output_type": "display_data",
          "data": {
            "text/plain": [
              "<IPython.core.display.HTML object>"
            ],
            "text/html": [
              "<div><iframe src=\"https://63b11b690c02f628fd.gradio.live\" width=\"100%\" height=\"500\" allow=\"autoplay; camera; microphone; clipboard-read; clipboard-write;\" frameborder=\"0\" allowfullscreen></iframe></div>"
            ]
          },
          "metadata": {}
        },
        {
          "output_type": "execute_result",
          "data": {
            "text/plain": []
          },
          "metadata": {},
          "execution_count": 10
        }
      ]
    },
    {
      "cell_type": "markdown",
      "source": [
        "Chatgpt生成切換Gardio介面示範"
      ],
      "metadata": {
        "id": "QXi25Mr3RveS"
      }
    },
    {
      "cell_type": "code",
      "source": [
        "import gradio as gr\n",
        "\n",
        "def 切到新增():\n",
        "    return gr.update(visible=True), gr.update(visible=False), gr.update(visible=False)\n",
        "\n",
        "def 切到查看():\n",
        "    return gr.update(visible=False), gr.update(visible=True), gr.update(visible=False)\n",
        "\n",
        "def 回首頁():\n",
        "    return gr.update(visible=False), gr.update(visible=False), gr.update(visible=True)\n",
        "\n",
        "with gr.Blocks() as demo:\n",
        "    # 首頁\n",
        "    with gr.Column(visible=True) as home:\n",
        "        gr.Markdown(\"# 🏠 主選單\")\n",
        "        to_add = gr.Button(\"📝 新增紀錄\")\n",
        "        to_view = gr.Button(\"📊 查看紀錄\")\n",
        "\n",
        "    # 新增頁面\n",
        "    with gr.Column(visible=False) as add_page:\n",
        "        gr.Markdown(\"## 📝 新增紀錄\")\n",
        "        back1 = gr.Button(\"⬅️ 回首頁\")\n",
        "\n",
        "    # 查看頁面\n",
        "    with gr.Column(visible=False) as view_page:\n",
        "        gr.Markdown(\"## 📊 查看紀錄\")\n",
        "        back2 = gr.Button(\"⬅️ 回首頁\")\n",
        "\n",
        "    # 事件控制\n",
        "    to_add.click(切到新增, None, [add_page, view_page, home])\n",
        "    to_view.click(切到查看, None, [add_page, view_page, home])\n",
        "    back1.click(回首頁, None, [add_page, view_page, home])\n",
        "    back2.click(回首頁, None, [add_page, view_page, home])\n",
        "\n",
        "demo.launch()\n"
      ],
      "metadata": {
        "colab": {
          "base_uri": "https://localhost:8080/",
          "height": 645
        },
        "id": "sg_z4IODLV1G",
        "outputId": "c1c017a9-d733-4c2d-b5fb-3d951729465b"
      },
      "execution_count": 25,
      "outputs": [
        {
          "output_type": "stream",
          "name": "stdout",
          "text": [
            "It looks like you are running Gradio on a hosted Jupyter notebook, which requires `share=True`. Automatically setting `share=True` (you can turn this off by setting `share=False` in `launch()` explicitly).\n",
            "\n",
            "Colab notebook detected. To show errors in colab notebook, set debug=True in launch()\n",
            "* Running on public URL: https://c4f19dac19534440ef.gradio.live\n",
            "\n",
            "This share link expires in 1 week. For free permanent hosting and GPU upgrades, run `gradio deploy` from the terminal in the working directory to deploy to Hugging Face Spaces (https://huggingface.co/spaces)\n"
          ]
        },
        {
          "output_type": "display_data",
          "data": {
            "text/plain": [
              "<IPython.core.display.HTML object>"
            ],
            "text/html": [
              "<div><iframe src=\"https://c4f19dac19534440ef.gradio.live\" width=\"100%\" height=\"500\" allow=\"autoplay; camera; microphone; clipboard-read; clipboard-write;\" frameborder=\"0\" allowfullscreen></iframe></div>"
            ]
          },
          "metadata": {}
        },
        {
          "output_type": "execute_result",
          "data": {
            "text/plain": []
          },
          "metadata": {},
          "execution_count": 25
        }
      ]
    },
    {
      "cell_type": "markdown",
      "source": [
        "最後整合案(介面整合)"
      ],
      "metadata": {
        "id": "QhFoFBKvSELx"
      }
    },
    {
      "cell_type": "code",
      "source": [
        "import gradio as gr\n",
        "import gspread\n",
        "import os\n",
        "import pandas as pd\n",
        "import datetime\n",
        "\n",
        "from google.auth import default\n",
        "from gspread_dataframe import set_with_dataframe, get_as_dataframe\n",
        "from google.colab import auth\n",
        "from google.auth.transport.requests import Request\n",
        "\n",
        "# 🔑 如果用 Colab OAuth\n",
        "auth.authenticate_user()\n",
        "creds, _ = default()\n",
        "gc = gspread.authorize(creds)\n",
        "\n",
        "# 開啟 Google Sheet（請改成你的表單名稱）\n",
        "sheet = gc.open(\"日常財務紀錄表\").sheet1\n",
        "\n",
        "# 初始化欄位\n",
        "columns = [\"日期\", \"項目\", \"分類\", \"金額\"]\n",
        "\n",
        "# 小工具：驗證 YYYY-MM-DD\n",
        "def is_valid_date(s):\n",
        "    try:\n",
        "        datetime.date.fromisoformat(s)\n",
        "        return True\n",
        "    except Exception:\n",
        "        return False\n",
        "\n",
        "# 讀取紀錄\n",
        "def read_rec():\n",
        "    \"\"\"從 Google Sheet 載入紀錄\"\"\"\n",
        "    df = get_as_dataframe(sheet, evaluate_formulas=True, header=0)\n",
        "    df = df.dropna(how=\"all\")  # 移除空列\n",
        "    if df.empty:\n",
        "        df = pd.DataFrame(columns=columns)\n",
        "    return df\n",
        "\n",
        "# 寫入紀錄\n",
        "def write_rec(df):\n",
        "    \"\"\"把 DataFrame 寫回 Google Sheet\"\"\"\n",
        "    sheet.clear()\n",
        "    set_with_dataframe(sheet, df)\n",
        "\n",
        "# 新增紀錄\n",
        "def add_rec(date, cate, sort, amount):\n",
        "\n",
        "# 驗證日期\n",
        "    if not date or not is_valid_date(date):\n",
        "        df_current = read_rec()\n",
        "        return \"⚠️ 日期格式錯誤（請輸入 YYYY-MM-DD）\", df_current.tail(10), date, cate, sort, amount\n",
        "\n",
        "# 驗證金額\n",
        "    try:\n",
        "        amount_val = float(amount)\n",
        "    except Exception:\n",
        "        df_current = read_rec()\n",
        "        return \"⚠️ 金額格式錯誤（請輸入數字）\", df_current.tail(10), date, cate, sort, amount\n",
        "\n",
        "    df = read_rec()\n",
        "    new_row = pd.DataFrame([[date, cate, sort, amount]], columns=columns)\n",
        "    df = pd.concat([df, new_row], ignore_index=True)\n",
        "    write_rec(df)\n",
        "\n",
        "    return \"✅ 已新增紀錄！\", df.tail(5),\" \",\" \",None,None\n",
        "# 檢查紀錄\n",
        "def check_rec():\n",
        "    data = sheet.get_all_records()\n",
        "    if not data:\n",
        "        return pd.DataFrame(), None\n",
        "    df = pd.DataFrame(data)\n",
        "    csv_path = \"/tmp/消費紀錄.csv\"\n",
        "    df.to_csv(csv_path, index=False, encoding=\"utf-8-sig\")\n",
        "    return df, csv_path\n",
        "\n",
        "# 月總計\n",
        "def month_totle():\n",
        "    df = read_rec()\n",
        "    month = month_enter()\n",
        "    month_data = df[df[\"日期\"].str.startswith(month)]\n",
        "    total = month_data[\"金額\"].sum()\n",
        "    print(f\"💰 {month} 總額: {total}\")\n",
        "\n",
        "# 分類總計\n",
        "def sort_totle():\n",
        "    df = read_rec()\n",
        "    month = month_enter()\n",
        "    month_data = df[df[\"日期\"].str.startswith(month)]\n",
        "    if month_data.empty:\n",
        "        print(\"⚠️ 該月份沒有紀錄\")\n",
        "    else:\n",
        "        print(\"📊 分類小計：\")\n",
        "        print(month_data.groupby(\"分類\")[\"金額\"].sum())\n",
        "\n",
        "# Gradio 介面\n",
        "with gr.Blocks() as demo:\n",
        "        with gr.Tabs():\n",
        "            # 分頁 1️⃣ 新增紀錄\n",
        "            with gr.TabItem(\"新增紀錄\"):\n",
        "                gr.Markdown(\"## 📝 消費紀錄表 - 新增紀錄\")\n",
        "\n",
        "                date = gr.Textbox(label=\"日期 (YYYY-MM-DD)\")\n",
        "                cate = gr.Textbox(label=\"品項\")\n",
        "                amount = gr.Number(label=\"金額\")\n",
        "                sort = gr.Dropdown([\"餐飲\", \"交通\", \"娛樂\", \"購物\", \"其他\"], label=\"分類\")\n",
        "\n",
        "                submit_btn = gr.Button(\"新增紀錄\")\n",
        "                msg = gr.Textbox(label=\"系統訊息\", interactive=False)\n",
        "                output = gr.Dataframe(headers=[\"日期\", \"品項\", \"分類\", \"金額\"], interactive=False)\n",
        "\n",
        "                submit_btn.click(\n",
        "                    add_rec,\n",
        "                    inputs=[date, cate, sort, amount],\n",
        "                    outputs=[msg,output,date, cate, sort, amount]\n",
        "                )\n",
        "            # 分頁 2️⃣ 查看紀錄\n",
        "        with gr.TabItem(\"查看紀錄\"):\n",
        "            show_btn = gr.Button(\"📊 更新並顯示紀錄\")\n",
        "            table = gr.DataFrame(label=\"目前紀錄\", interactive=False)\n",
        "            download = gr.File(label=\"下載 CSV\")\n",
        "\n",
        "            show_btn.click(\n",
        "                check_rec,\n",
        "                inputs=[],\n",
        "                outputs=[table, download]\n",
        "            )\n",
        "\n",
        "\n",
        "demo.launch()\n"
      ],
      "metadata": {
        "colab": {
          "base_uri": "https://localhost:8080/",
          "height": 645
        },
        "id": "ay13WGvS9kl-",
        "outputId": "9a63e4d3-5c97-4c33-86ee-ee95ff5bb29c"
      },
      "execution_count": 27,
      "outputs": [
        {
          "output_type": "stream",
          "name": "stdout",
          "text": [
            "It looks like you are running Gradio on a hosted Jupyter notebook, which requires `share=True`. Automatically setting `share=True` (you can turn this off by setting `share=False` in `launch()` explicitly).\n",
            "\n",
            "Colab notebook detected. To show errors in colab notebook, set debug=True in launch()\n",
            "* Running on public URL: https://95b91d92cdf987ab5c.gradio.live\n",
            "\n",
            "This share link expires in 1 week. For free permanent hosting and GPU upgrades, run `gradio deploy` from the terminal in the working directory to deploy to Hugging Face Spaces (https://huggingface.co/spaces)\n"
          ]
        },
        {
          "output_type": "display_data",
          "data": {
            "text/plain": [
              "<IPython.core.display.HTML object>"
            ],
            "text/html": [
              "<div><iframe src=\"https://95b91d92cdf987ab5c.gradio.live\" width=\"100%\" height=\"500\" allow=\"autoplay; camera; microphone; clipboard-read; clipboard-write;\" frameborder=\"0\" allowfullscreen></iframe></div>"
            ]
          },
          "metadata": {}
        },
        {
          "output_type": "execute_result",
          "data": {
            "text/plain": []
          },
          "metadata": {},
          "execution_count": 27
        }
      ]
    }
  ]
}